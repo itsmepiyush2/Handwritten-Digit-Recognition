{
 "cells": [
  {
   "cell_type": "code",
   "execution_count": 28,
   "metadata": {},
   "outputs": [
    {
     "data": {
      "text/plain": [
       "<function matplotlib.pyplot.show>"
      ]
     },
     "execution_count": 28,
     "metadata": {},
     "output_type": "execute_result"
    },
    {
     "data": {
      "text/plain": [
       "<matplotlib.figure.Figure at 0x7c0c8f0>"
      ]
     },
     "metadata": {},
     "output_type": "display_data"
    },
    {
     "data": {
      "image/png": "[encoded data removed]",
      "text/plain": [
       "<matplotlib.figure.Figure at 0x7eb6dd0>"
      ]
     },
     "metadata": {},
     "output_type": "display_data"
    }
   ],
   "source": [
    "from matplotlib import pyplot as plt\n",
    "from sklearn.datasets import load_digits\n",
    "from sklearn import svm\n",
    "digits = load_digits()\n",
    "plt.gray()\n",
    "plt.matshow(digits.images[179])\n",
    "plt.show"
   ]
  },
  {
   "cell_type": "code",
   "execution_count": 29,
   "metadata": {},
   "outputs": [
    {
     "name": "stdout",
     "output_type": "stream",
     "text": [
      "[[ 0.  0.  1.  8. 15. 10.  0.  0.]\n",
      " [ 0.  3. 13. 15. 14. 14.  0.  0.]\n",
      " [ 0.  5. 10.  0. 10. 12.  0.  0.]\n",
      " [ 0.  0.  3.  5. 15. 10.  2.  0.]\n",
      " [ 0.  0. 16. 16. 16. 16. 12.  0.]\n",
      " [ 0.  1.  8. 12. 14.  8.  3.  0.]\n",
      " [ 0.  0.  0. 10. 13.  0.  0.  0.]\n",
      " [ 0.  0.  0. 11.  9.  0.  0.  0.]]\n"
     ]
    }
   ],
   "source": [
    "print(digits.images[17])"
   ]
  },
  {
   "cell_type": "code",
   "execution_count": 27,
   "metadata": {},
   "outputs": [
    {
     "name": "stdout",
     "output_type": "stream",
     "text": [
      "Predicted digit -> [0]\n"
     ]
    }
   ],
   "source": [
    "clf = svm.SVC()\n",
    "clf.fit(digits.data[:-1], digits.target[:-1])\n",
    "prediction = clf.predict(digits.data[179:180])\n",
    "print(\"Predicted digit ->\", prediction)"
   ]
  },
  {
   "cell_type": "code",
   "execution_count": null,
   "metadata": {},
   "outputs": [],
   "source": []
  }
 ],
 "metadata": {
  "kernelspec": {
   "display_name": "Python 3",
   "language": "python",
   "name": "python3"
  },
  "language_info": {
   "codemirror_mode": {
    "name": "ipython",
    "version": 3
   },
   "file_extension": ".py",
   "mimetype": "text/x-python",
   "name": "python",
   "nbconvert_exporter": "python",
   "pygments_lexer": "ipython3",
   "version": "3.6.4"
  }
 },
 "nbformat": 4,
 "nbformat_minor": 2
}
